{
 "cells": [
  {
   "cell_type": "code",
   "execution_count": 1,
   "id": "541dfed8-c97d-4e79-882f-07cbae772435",
   "metadata": {
    "collapsed": true,
    "jupyter": {
     "outputs_hidden": true
    }
   },
   "outputs": [
    {
     "name": "stderr",
     "output_type": "stream",
     "text": [
      "/home/reboot-student/Desktop/ProyectoPersonality/mbti_env/lib/python3.12/site-packages/tqdm/auto.py:21: TqdmWarning: IProgress not found. Please update jupyter and ipywidgets. See https://ipywidgets.readthedocs.io/en/stable/user_install.html\n",
      "  from .autonotebook import tqdm as notebook_tqdm\n",
      "2025-06-03 14:51:11.390598: I tensorflow/core/util/port.cc:153] oneDNN custom operations are on. You may see slightly different numerical results due to floating-point round-off errors from different computation orders. To turn them off, set the environment variable `TF_ENABLE_ONEDNN_OPTS=0`.\n",
      "2025-06-03 14:51:11.391124: I external/local_xla/xla/tsl/cuda/cudart_stub.cc:32] Could not find cuda drivers on your machine, GPU will not be used.\n",
      "2025-06-03 14:51:11.393751: I external/local_xla/xla/tsl/cuda/cudart_stub.cc:32] Could not find cuda drivers on your machine, GPU will not be used.\n",
      "2025-06-03 14:51:11.400168: E external/local_xla/xla/stream_executor/cuda/cuda_fft.cc:467] Unable to register cuFFT factory: Attempting to register factory for plugin cuFFT when one has already been registered\n",
      "WARNING: All log messages before absl::InitializeLog() is called are written to STDERR\n",
      "E0000 00:00:1748958671.409889   47371 cuda_dnn.cc:8579] Unable to register cuDNN factory: Attempting to register factory for plugin cuDNN when one has already been registered\n",
      "E0000 00:00:1748958671.412705   47371 cuda_blas.cc:1407] Unable to register cuBLAS factory: Attempting to register factory for plugin cuBLAS when one has already been registered\n",
      "W0000 00:00:1748958671.420990   47371 computation_placer.cc:177] computation placer already registered. Please check linkage and avoid linking the same target more than once.\n",
      "W0000 00:00:1748958671.421001   47371 computation_placer.cc:177] computation placer already registered. Please check linkage and avoid linking the same target more than once.\n",
      "W0000 00:00:1748958671.421002   47371 computation_placer.cc:177] computation placer already registered. Please check linkage and avoid linking the same target more than once.\n",
      "W0000 00:00:1748958671.421003   47371 computation_placer.cc:177] computation placer already registered. Please check linkage and avoid linking the same target more than once.\n",
      "2025-06-03 14:51:11.424192: I tensorflow/core/platform/cpu_feature_guard.cc:210] This TensorFlow binary is optimized to use available CPU instructions in performance-critical operations.\n",
      "To enable the following instructions: AVX2 AVX_VNNI FMA, in other operations, rebuild TensorFlow with the appropriate compiler flags.\n"
     ]
    }
   ],
   "source": [
    "import pandas as pd\n",
    "import re\n",
    "from sklearn.model_selection import train_test_split\n",
    "from transformers import AutoTokenizer, TFDistilBertForSequenceClassification\n",
    "import tensorflow as tf\n"
   ]
  },
  {
   "cell_type": "code",
   "execution_count": 3,
   "id": "2ceb7d45-75c8-487f-9366-d45ab721b385",
   "metadata": {},
   "outputs": [
    {
     "name": "stderr",
     "output_type": "stream",
     "text": [
      "/home/reboot-student/Desktop/ProyectoPersonality/mbti_env/lib/python3.12/site-packages/huggingface_hub/file_download.py:943: FutureWarning: `resume_download` is deprecated and will be removed in version 1.0.0. Downloads always resume when possible. If you want to force a new download, use `force_download=True`.\n",
      "  warnings.warn(\n",
      "Some weights of the PyTorch model were not used when initializing the TF 2.0 model TFDistilBertForSequenceClassification: ['vocab_transform.weight', 'vocab_layer_norm.weight', 'vocab_layer_norm.bias', 'vocab_transform.bias', 'vocab_projector.bias']\n",
      "- This IS expected if you are initializing TFDistilBertForSequenceClassification from a PyTorch model trained on another task or with another architecture (e.g. initializing a TFBertForSequenceClassification model from a BertForPreTraining model).\n",
      "- This IS NOT expected if you are initializing TFDistilBertForSequenceClassification from a PyTorch model that you expect to be exactly identical (e.g. initializing a TFBertForSequenceClassification model from a BertForSequenceClassification model).\n",
      "Some weights or buffers of the TF 2.0 model TFDistilBertForSequenceClassification were not initialized from the PyTorch model and are newly initialized: ['pre_classifier.weight', 'pre_classifier.bias', 'classifier.weight', 'classifier.bias']\n",
      "You should probably TRAIN this model on a down-stream task to be able to use it for predictions and inference.\n"
     ]
    },
    {
     "name": "stdout",
     "output_type": "stream",
     "text": [
      "Epoch 1/6\n",
      "247/247 [==============================] - 724s 3s/step - loss: 0.6912 - accuracy: 0.4887 - val_loss: 0.6878 - val_accuracy: 0.4741 - lr: 5.0000e-06\n",
      "Epoch 2/6\n",
      "247/247 [==============================] - 705s 3s/step - loss: 0.6828 - accuracy: 0.4966 - val_loss: 0.6833 - val_accuracy: 0.4972 - lr: 5.0000e-06\n",
      "Epoch 3/6\n",
      "247/247 [==============================] - 718s 3s/step - loss: 0.6699 - accuracy: 0.5176 - val_loss: 0.6831 - val_accuracy: 0.5093 - lr: 5.0000e-06\n",
      "Epoch 4/6\n",
      "247/247 [==============================] - 700s 3s/step - loss: 0.6579 - accuracy: 0.5440 - val_loss: 0.6861 - val_accuracy: 0.5243 - lr: 5.0000e-06\n",
      "Epoch 5/6\n",
      "247/247 [==============================] - 707s 3s/step - loss: 0.6429 - accuracy: 0.5707 - val_loss: 0.6819 - val_accuracy: 0.5437 - lr: 2.5000e-06\n",
      "Epoch 6/6\n",
      "247/247 [==============================] - 707s 3s/step - loss: 0.6327 - accuracy: 0.5903 - val_loss: 0.6842 - val_accuracy: 0.5526 - lr: 2.5000e-06\n"
     ]
    }
   ],
   "source": [
    "\n",
    "# --- Limpieza de texto ---\n",
    "def limpiar(texto):\n",
    "    texto = re.sub(r\"http\\S+\", \"\", texto)\n",
    "    texto = re.sub(r\"\\|\\|\\|\", \" \", texto)\n",
    "    texto = re.sub(r\"[^A-Za-z\\s]\", \"\", texto)\n",
    "    texto = re.sub(r\"\\s+\", \" \", texto)\n",
    "    return texto.lower().strip()\n",
    "\n",
    "# --- Carga y preprocesamiento ---\n",
    "df = pd.read_csv(\"essays.csv\", encoding=\"ISO-8859-1\")\n",
    "df[\"clean_text\"] = df[\"TEXT\"].apply(limpiar)\n",
    "df[\"EXT\"] = df[\"cEXT\"].map({\"y\": 1, \"n\": 0})\n",
    "df[\"NEU\"] = df[\"cNEU\"].map({\"y\": 1, \"n\": 0})\n",
    "df[\"AGR\"] = df[\"cAGR\"].map({\"y\": 1, \"n\": 0})\n",
    "df[\"CON\"] = df[\"cCON\"].map({\"y\": 1, \"n\": 0})\n",
    "df[\"OPN\"] = df[\"cOPN\"].map({\"y\": 1, \"n\": 0})\n",
    "\n",
    "X = df[\"clean_text\"].tolist()\n",
    "y = df[[\"EXT\", \"NEU\", \"AGR\", \"CON\", \"OPN\"]].values\n",
    "X_train, X_test, y_train, y_test = train_test_split(X, y, test_size=0.2, random_state=42)\n",
    "\n",
    "# --- Tokenización ---\n",
    "checkpoint = \"distilbert-base-uncased\"\n",
    "tokenizer = AutoTokenizer.from_pretrained(checkpoint)\n",
    "\n",
    "def tokenize_texts(texts):\n",
    "    return tokenizer(texts, padding=True, truncation=True, max_length=384, return_tensors=\"tf\")\n",
    "\n",
    "train_encodings = tokenize_texts(X_train)\n",
    "test_encodings = tokenize_texts(X_test)\n",
    "\n",
    "train_dataset = tf.data.Dataset.from_tensor_slices((dict(train_encodings), y_train)).batch(8)\n",
    "test_dataset = tf.data.Dataset.from_tensor_slices((dict(test_encodings), y_test)).batch(8)\n",
    "\n",
    "# --- Modelo ---\n",
    "model = TFDistilBertForSequenceClassification.from_pretrained(\n",
    "    checkpoint,\n",
    "    num_labels=5,\n",
    "    problem_type=\"multi_label_classification\"\n",
    ")\n",
    "\n",
    "# 🔓 ENTRENAR TODO DISTILBERT\n",
    "for layer in model.layers:\n",
    "    layer.trainable = True\n",
    "\n",
    "# --- Compilación ---\n",
    "optimizer = tf.keras.optimizers.Adam(learning_rate=5e-6)  # más bajo para mayor control\n",
    "loss = tf.keras.losses.BinaryCrossentropy(from_logits=True)\n",
    "metrics = [tf.keras.metrics.BinaryAccuracy(name='accuracy')]\n",
    "\n",
    "model.compile(optimizer=optimizer, loss=loss, metrics=metrics)\n",
    "\n",
    "# --- Callbacks ---\n",
    "reduce_lr = tf.keras.callbacks.ReduceLROnPlateau(monitor='val_loss', factor=0.5, patience=1)\n",
    "early_stop = tf.keras.callbacks.EarlyStopping(monitor='val_loss', patience=2, restore_best_weights=True)\n",
    "\n",
    "# --- Entrenamiento ---\n",
    "model.fit(train_dataset, validation_data=test_dataset, epochs=6, callbacks=[reduce_lr, early_stop])\n",
    "\n",
    "# --- Predicción personalizada ---\n",
    "def predecir_ocean(texto):\n",
    "    inputs = tokenizer(texto, padding=True, truncation=True, max_length=500, return_tensors=\"tf\")\n",
    "    logits = model(inputs)[0]\n",
    "    probs = tf.sigmoid(logits)[0].numpy()\n",
    "    etiquetas = [\"Extroversión (E)\", \"Neuroticismo (N)\", \"Amabilidad (A)\", \"Responsabilidad (C)\", \"Apertura (O)\"]\n",
    "    resultado = []\n",
    "    for i, p in enumerate(probs):\n",
    "        if p > 0.5:\n",
    "            resultado.append(etiquetas[i])\n",
    "        else:\n",
    "            resultado.append(f\"Eres lo contrario a{etiquetas[i]}\")\n",
    "    return \"Tu perfil de personalidad parece: \" + \", \".join(resultado)\n"
   ]
  },
  {
   "cell_type": "code",
   "execution_count": 3,
   "id": "021cb8aa-9c09-4dce-a95d-ee0b83d7de45",
   "metadata": {},
   "outputs": [
    {
     "ename": "NameError",
     "evalue": "name 'predecir_ocean' is not defined",
     "output_type": "error",
     "traceback": [
      "\u001b[31m---------------------------------------------------------------------------\u001b[39m",
      "\u001b[31mNameError\u001b[39m                                 Traceback (most recent call last)",
      "\u001b[36mCell\u001b[39m\u001b[36m \u001b[39m\u001b[32mIn[3]\u001b[39m\u001b[32m, line 2\u001b[39m\n\u001b[32m      1\u001b[39m \u001b[38;5;66;03m# --- Ejemplo de uso ---\u001b[39;00m\n\u001b[32m----> \u001b[39m\u001b[32m2\u001b[39m \u001b[38;5;28mprint\u001b[39m(\u001b[43mpredecir_ocean\u001b[49m(\u001b[33m\"\u001b[39m\u001b[33mI love sleep\u001b[39m\u001b[33m\"\u001b[39m))\n",
      "\u001b[31mNameError\u001b[39m: name 'predecir_ocean' is not defined"
     ]
    }
   ],
   "source": [
    "# --- Ejemplo de uso ---\n",
    "print(predecir_ocean(\"I love sleep\"))\n"
   ]
  },
  {
   "cell_type": "code",
   "execution_count": 21,
   "id": "d856ad28-2074-4e31-9187-1afaa90e21c2",
   "metadata": {},
   "outputs": [
    {
     "data": {
      "text/plain": [
       "('./modelo_ocean_v1/tokenizer_config.json',\n",
       " './modelo_ocean_v1/special_tokens_map.json',\n",
       " './modelo_ocean_v1/vocab.txt',\n",
       " './modelo_ocean_v1/added_tokens.json',\n",
       " './modelo_ocean_v1/tokenizer.json')"
      ]
     },
     "execution_count": 21,
     "metadata": {},
     "output_type": "execute_result"
    }
   ],
   "source": [
    "model.save_pretrained(\"./modelo_ocean_v1\")\n",
    "tokenizer.save_pretrained(\"./modelo_ocean_v1\")"
   ]
  },
  {
   "cell_type": "code",
   "execution_count": null,
   "id": "c3d1c1ce-2438-4de6-a682-006185ca7d34",
   "metadata": {},
   "outputs": [
    {
     "name": "stderr",
     "output_type": "stream",
     "text": [
      "Some layers from the model checkpoint at ./modelo_ocean_v1 were not used when initializing TFDistilBertForSequenceClassification: ['dropout_57']\n",
      "- This IS expected if you are initializing TFDistilBertForSequenceClassification from the checkpoint of a model trained on another task or with another architecture (e.g. initializing a BertForSequenceClassification model from a BertForPreTraining model).\n",
      "- This IS NOT expected if you are initializing TFDistilBertForSequenceClassification from the checkpoint of a model that you expect to be exactly identical (initializing a BertForSequenceClassification model from a BertForSequenceClassification model).\n",
      "Some layers of TFDistilBertForSequenceClassification were not initialized from the model checkpoint at ./modelo_ocean_v1 and are newly initialized: ['dropout_79']\n",
      "You should probably TRAIN this model on a down-stream task to be able to use it for predictions and inference.\n"
     ]
    },
    {
     "name": "stdout",
     "output_type": "stream",
     "text": [
      "Epoch 1/3\n",
      " 39/494 [=>............................] - ETA: 10:12 - loss: 0.6304 - accuracy: 0.5885"
     ]
    }
   ],
   "source": [
    "from transformers import TFDistilBertForSequenceClassification, AutoTokenizer\n",
    "#DATASET CON 1000 FILAS MÁS\n",
    "df = pd.read_csv(\"essays_merged_10000.csv\", encoding=\"ISO-8859-1\")\n",
    "model = TFDistilBertForSequenceClassification.from_pretrained(\"./modelo_ocean_v1\")\n",
    "tokenizer = AutoTokenizer.from_pretrained(\"./modelo_ocean_v1\")\n",
    "\n",
    "# Compilar con menor LR\n",
    "optimizer = tf.keras.optimizers.Adam(learning_rate=1e-6)\n",
    "loss = tf.keras.losses.BinaryCrossentropy(from_logits=True)\n",
    "metrics = [tf.keras.metrics.BinaryAccuracy(name='accuracy')]\n",
    "\n",
    "model.compile(optimizer=optimizer, loss=loss, metrics=metrics)\n",
    "\n",
    "# Entrena 2-3 epochs más\n",
    "model.fit(train_dataset, validation_data=test_dataset, epochs=3, callbacks=[reduce_lr, early_stop])\n"
   ]
  },
  {
   "cell_type": "code",
   "execution_count": 27,
   "id": "dde0c8e6-f044-4d25-8684-09ad4272bbe7",
   "metadata": {},
   "outputs": [
    {
     "data": {
      "text/plain": [
       "('./modelo_ocean_v1_finetuned/tokenizer_config.json',\n",
       " './modelo_ocean_v1_finetuned/special_tokens_map.json',\n",
       " './modelo_ocean_v1_finetuned/vocab.txt',\n",
       " './modelo_ocean_v1_finetuned/added_tokens.json',\n",
       " './modelo_ocean_v1_finetuned/tokenizer.json')"
      ]
     },
     "execution_count": 27,
     "metadata": {},
     "output_type": "execute_result"
    }
   ],
   "source": [
    "model.save_pretrained(\"./modelo_ocean_v1_finetuned\")\n",
    "tokenizer.save_pretrained(\"./modelo_ocean_v1_finetuned\")\n"
   ]
  },
  {
   "cell_type": "code",
   "execution_count": null,
   "id": "9e891e5f-798d-410c-8832-d3c5a4f7b40c",
   "metadata": {},
   "outputs": [],
   "source": []
  }
 ],
 "metadata": {
  "kernelspec": {
   "display_name": "Python (mbti_env)",
   "language": "python",
   "name": "mbti_env"
  },
  "language_info": {
   "codemirror_mode": {
    "name": "ipython",
    "version": 3
   },
   "file_extension": ".py",
   "mimetype": "text/x-python",
   "name": "python",
   "nbconvert_exporter": "python",
   "pygments_lexer": "ipython3",
   "version": "3.12.4"
  }
 },
 "nbformat": 4,
 "nbformat_minor": 5
}
